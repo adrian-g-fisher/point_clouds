{
 "cells": [
  {
   "cell_type": "markdown",
   "id": "630c3eeb-36aa-4a77-89cd-575c8a58ab94",
   "metadata": {},
   "source": [
    "To run this notebook you need to have several packages installed. One way to install in through Anaconda with the following:\n",
    "\n",
    "`conda env create -n jack -f environment.yml`\n",
    "\n",
    "`conda activate jack`\n",
    "\n",
    "You can work with the las data two ways:\n",
    "1. Use the las2rec function to read the data into a recArray.\n",
    "2. Access the point directly using laspy, such as las.x or las.y"
   ]
  },
  {
   "cell_type": "code",
   "execution_count": 1,
   "id": "2d3cad9d-7400-4947-b073-29e80876ab0f",
   "metadata": {},
   "outputs": [],
   "source": [
    "import os\n",
    "import sys\n",
    "import laspy\n",
    "import numpy as np\n",
    "import matplotlib.pyplot as plt\n",
    "from pyproj import crs"
   ]
  },
  {
   "cell_type": "code",
   "execution_count": 18,
   "id": "9ece75ef-3680-4f34-b13e-cd7152a23f3e",
   "metadata": {},
   "outputs": [
    {
     "name": "stdout",
     "output_type": "stream",
     "text": [
      "6645595\n",
      "4904697\n"
     ]
    }
   ],
   "source": [
    "def las2rec(infile):\n",
    "    \"\"\"\n",
    "    Function to read in a laz file and return as a recArray.\n",
    "    \"\"\"\n",
    "    with laspy.open(infile) as fh:\n",
    "        las = fh.read()\n",
    "    las_data = np.rec.fromarrays([las.return_num, las.num_returns, las.gps_time, las.intensity,las.classification, las.x, las.y, las.z],\n",
    "                                 names=['RETURN_NUMBER', 'NUMBER_OF_RETURNS', 'TIMESTAMP', 'INTENSITY', 'CLASSIFICATION', 'X', 'Y', 'Z'],\n",
    "                                 formats=['u1', 'u1', '<f8', '<i4', 'u1', '<f8', '<f8', '<f8'])\n",
    "    \n",
    "    las_data.sort(order='TIMESTAMP')\n",
    "    \n",
    "    print(las_data['X'].size)\n",
    "    \n",
    "    return las_data\n",
    "\n",
    "# Read data from las file into recArray \n",
    "lasFile1 = r'E:\\lid1_lid2_comparison\\input_data\\baradine_201407_lid1\\laz\\apl1dr_x692000ys6570000_20140703_ba1m5_pBARAL1.laz'\n",
    "lasData1 = las2rec(lasFile1)\n",
    "\n",
    "lasFile2 = r'E:\\lid1_lid2_comparison\\reduced_density_data\\baradine_201407_lid1\\laz_131\\apl1dr_x692000ys6570000_20140703_ba1m5_pBARAL1.laz'\n",
    "lasData2 = las2rec(lasFile2)"
   ]
  },
  {
   "cell_type": "code",
   "execution_count": 19,
   "id": "864885e5-1070-4a0c-97ef-c69c67b9faa0",
   "metadata": {},
   "outputs": [
    {
     "name": "stdout",
     "output_type": "stream",
     "text": [
      "Original data\n",
      "min and max X: 692000.000000 693999.999000\n",
      "min and max Y: 6568000.000000 6569999.999000\n",
      "min and max Z: 294.694000 349.857000\n",
      "Filtered data\n",
      "min and max X: 692000.000000 693999.999000\n",
      "min and max Y: 6568000.000000 6569999.999000\n",
      "min and max Z: 294.694000 349.857000\n"
     ]
    }
   ],
   "source": [
    "# Print out the bounding box\n",
    "print(\"Original data\")\n",
    "print('min and max X: %f %f'%(np.min(lasData1['X']), np.max(lasData1['X'])))\n",
    "print('min and max Y: %f %f'%(np.min(lasData1['Y']), np.max(lasData1['Y'])))\n",
    "print('min and max Z: %f %f'%(np.min(lasData1['Z']), np.max(lasData1['Z'])))\n",
    "print(\"Filtered data\")\n",
    "print('min and max X: %f %f'%(np.min(lasData1['X']), np.max(lasData1['X'])))\n",
    "print('min and max Y: %f %f'%(np.min(lasData1['Y']), np.max(lasData1['Y'])))\n",
    "print('min and max Z: %f %f'%(np.min(lasData1['Z']), np.max(lasData1['Z'])))"
   ]
  },
  {
   "cell_type": "code",
   "execution_count": 20,
   "id": "cc92b78b-94a7-45a4-b23b-4575a4f810e9",
   "metadata": {},
   "outputs": [],
   "source": [
    "def plotReturnNumberCount(las_data):\n",
    "    \"\"\"\n",
    "    Function to make a histogram of return numbers from a las recArray.\n",
    "    \"\"\"\n",
    "    returnNumbers = las_data['RETURN_NUMBER']\n",
    "    returnNumberList = np.unique(returnNumbers)\n",
    "    count = []\n",
    "    for n in returnNumberList:\n",
    "        count.append(np.sum(returnNumbers == n))\n",
    "        print(n, np.sum(returnNumbers == n))\n",
    "    fig = plt.figure(1)\n",
    "    fig.set_size_inches((8, 2))\n",
    "    ax = plt.axes([0.2, 0.75, 0.2, 0.75])  \n",
    "    ax.bar(returnNumberList, count)\n",
    "    ax.set_xlabel('Return numbers')\n",
    "    ax.set_ylabel('Count')\n",
    "    ax.set_xticks(returnNumberList)\n",
    "    ax.ticklabel_format(style='plain')\n",
    "    plt.show()"
   ]
  },
  {
   "cell_type": "code",
   "execution_count": 21,
   "id": "04a32c27-aeb4-4bac-a41c-0650b80d47a6",
   "metadata": {},
   "outputs": [
    {
     "name": "stdout",
     "output_type": "stream",
     "text": [
      "1 6329403\n",
      "2 287307\n",
      "3 28371\n",
      "4 514\n"
     ]
    },
    {
     "data": {
      "image/png": "[encoded data removed]",
      "text/plain": [
       "<Figure size 800x200 with 1 Axes>"
      ]
     },
     "metadata": {},
     "output_type": "display_data"
    },
    {
     "name": "stdout",
     "output_type": "stream",
     "text": [
      "1 4656322\n",
      "2 225862\n",
      "3 22117\n",
      "4 396\n"
     ]
    },
    {
     "data": {
      "image/png": "[encoded data removed]",
      "text/plain": [
       "<Figure size 800x200 with 1 Axes>"
      ]
     },
     "metadata": {},
     "output_type": "display_data"
    }
   ],
   "source": [
    "# Make a plot of return numbers from lasFile\n",
    "plotReturnNumberCount(lasData1)\n",
    "plotReturnNumberCount(lasData2)"
   ]
  },
  {
   "cell_type": "code",
   "execution_count": null,
   "id": "56b1032d-e974-46f3-a07d-ac0db5d2d8ca",
   "metadata": {},
   "outputs": [],
   "source": [
    "# Select a 100 m square subset and export to a new laz file\n",
    "lasFile = r'E:\\lidar_for_jack\\katoomba_201804_lid1\\260000_6244000_Katoomba201804-LID1-C3-AHD_z56.las'\n",
    "outFile = r'E:\\lidar_for_jack\\katoomba_201804_lid1\\test.laz'\n",
    "epsg = 28355\n",
    "\n",
    "#min and max X: 260000.000000 262000.000000\n",
    "#min and max Y: 6244000.000000 6246000.000000\n",
    "\n",
    "minX = 261000\n",
    "maxX = 261100\n",
    "minY = 6245000\n",
    "maxY = 6245100\n",
    "\n",
    "las = laspy.read(lasFile)\n",
    "subset = laspy.create(point_format=las.header.point_format, file_version=las.header.version)\n",
    "subset.points = las.points[(las.x >= minX) & (las.x <= maxX) & (las.y >= minY) & (las.y <= maxY)]\n",
    "subset.header.scales = las.header.scales\n",
    "subset.header.offset = las.header.offset\n",
    "subset.header.add_crs(crs.CRS.from_user_input(epsg))\n",
    "subset.write(outFile)\n",
    "\n",
    "# Check the new file\n",
    "print('min and max X: %f %f'%(np.min(subset.points.x), np.max(subset.points.x)))\n",
    "print('min and max Y: %f %f'%(np.min(subset.points.y), np.max(subset.points.y)))\n",
    "print('min and max Z: %f %f'%(np.min(subset.points.z), np.max(subset.points.z)))"
   ]
  },
  {
   "cell_type": "code",
   "execution_count": null,
   "id": "74184f41-0c31-4bed-8be6-bbfac4578a4a",
   "metadata": {},
   "outputs": [],
   "source": []
  }
 ],
 "metadata": {
  "kernelspec": {
   "display_name": "Python 3 (ipykernel)",
   "language": "python",
   "name": "python3"
  },
  "language_info": {
   "codemirror_mode": {
    "name": "ipython",
    "version": 3
   },
   "file_extension": ".py",
   "mimetype": "text/x-python",
   "name": "python",
   "nbconvert_exporter": "python",
   "pygments_lexer": "ipython3",
   "version": "3.8.13"
  }
 },
 "nbformat": 4,
 "nbformat_minor": 5
}
